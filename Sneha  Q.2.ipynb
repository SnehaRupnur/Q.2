{
 "cells": [
  {
   "cell_type": "markdown",
   "id": "5b38b2ca",
   "metadata": {},
   "source": [
    "# Q2. Row Echelon Form:\n",
    "Create a 5x5 matrix, A, with entries randomly chosen integers between 0 and 9. To generate the random matrix, set the random seed as the last two digits of your roll number. Reduce matrix A to its Row Echelon Form by performing elementary row operations."
   ]
  },
  {
   "cell_type": "code",
   "execution_count": 1,
   "id": "4b6e781c",
   "metadata": {},
   "outputs": [
    {
     "name": "stdout",
     "output_type": "stream",
     "text": [
      " Matrix A:\n",
      "[[6 7 5 8 8]\n",
      " [2 1 7 2 3]\n",
      " [7 3 9 0 1]\n",
      " [5 9 8 4 4]\n",
      " [8 6 3 3 7]]\n"
     ]
    }
   ],
   "source": [
    "# Set the random seed using the last two digits of your roll number\n",
    "# Replace 45 with the last two digits of your roll number\n",
    "import numpy as np\n",
    "np.random.seed(40)\n",
    "A = np.random.randint(0, 10, size=(5, 5))\n",
    "print(\" Matrix A:\")\n",
    "print(A)"
   ]
  },
  {
   "cell_type": "code",
   "execution_count": 2,
   "id": "6aacee04",
   "metadata": {},
   "outputs": [
    {
     "name": "stdout",
     "output_type": "stream",
     "text": [
      "\n",
      "Row Echelon Form of Matrix A:\n",
      "[[ 1  1  0  1  1]\n",
      " [ 0  1 -7  0 -1]\n",
      " [ 0  0  1  0  0]\n",
      " [ 0  0  0  1 -3]\n",
      " [ 0  0  0  0  1]]\n"
     ]
    }
   ],
   "source": [
    "#Reduced row echelon form using elementary row operations\n",
    "rows, cols = A.shape\n",
    "for i in range(min(rows, cols)):\n",
    "    # Find the pivot element\n",
    "    pivot_row = i\n",
    "    while pivot_row < rows and A[pivot_row, i] == 0:\n",
    "        pivot_row += 1\n",
    "    if pivot_row == rows: \n",
    "        continue\n",
    "    # Swap rows to bring pivot element to the diagonal\n",
    "    A[[i, pivot_row]] = A[[pivot_row, i]]\n",
    "    A[i] = A[i] / A[i, i]\n",
    "    for j in range(i + 1, rows):\n",
    "        A[j] = A[j] - A[j, i] * A[i]\n",
    "\n",
    "print(\"\\nRow Echelon Form of Matrix A:\")\n",
    "print(A)"
   ]
  },
  {
   "cell_type": "code",
   "execution_count": null,
   "id": "9d032b4a",
   "metadata": {},
   "outputs": [],
   "source": []
  }
 ],
 "metadata": {
  "kernelspec": {
   "display_name": "Python 3 (ipykernel)",
   "language": "python",
   "name": "python3"
  },
  "language_info": {
   "codemirror_mode": {
    "name": "ipython",
    "version": 3
   },
   "file_extension": ".py",
   "mimetype": "text/x-python",
   "name": "python",
   "nbconvert_exporter": "python",
   "pygments_lexer": "ipython3",
   "version": "3.11.5"
  }
 },
 "nbformat": 4,
 "nbformat_minor": 5
}
